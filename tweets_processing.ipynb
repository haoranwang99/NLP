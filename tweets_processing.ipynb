{
  "nbformat": 4,
  "nbformat_minor": 0,
  "metadata": {
    "colab": {
      "provenance": []
    },
    "kernelspec": {
      "name": "python3",
      "display_name": "Python 3"
    },
    "language_info": {
      "name": "python"
    }
  },
  "cells": [
    {
      "cell_type": "code",
      "execution_count": 16,
      "metadata": {
        "colab": {
          "base_uri": "https://localhost:8080/"
        },
        "id": "wzEK1AKwHIRn",
        "outputId": "330f1fa7-6e94-4999-c76d-b40958838fc7"
      },
      "outputs": [
        {
          "output_type": "stream",
          "name": "stdout",
          "text": [
            "Drive already mounted at /content/drive/; to attempt to forcibly remount, call drive.mount(\"/content/drive/\", force_remount=True).\n",
            "' 20000_tweets.txt'\n"
          ]
        }
      ],
      "source": [
        "from google.colab import drive\n",
        "drive.mount('/content/drive/')\n",
        "!ls \"/content/drive/My Drive/tweets2\""
      ]
    },
    {
      "cell_type": "code",
      "source": [
        "## first let's visualize the first 10 tweets in the file\n",
        "f = open(\"/content/drive/My Drive/tweets/20000_tweets.txt\", \"r\")\n",
        "\n",
        "line_count = 0\n",
        "for tweet in f:\n",
        "  print(\"-------\", line_count, \"-------\")\n",
        "  print(tweet)\n",
        "  \n",
        "  line_count += 1\n",
        "  if line_count >= 10:\n",
        "    break\n",
        "f.close()"
      ],
      "metadata": {
        "colab": {
          "base_uri": "https://localhost:8080/"
        },
        "id": "IqKIzhY8Hjv-",
        "outputId": "227e1ee2-5262-4b19-8c04-924e62d070dc"
      },
      "execution_count": 15,
      "outputs": [
        {
          "output_type": "stream",
          "name": "stdout",
          "text": [
            "------- 0 -------\n",
            "Covid-19 Economic Response: Cancel Student Loans by Executive Order. - Sign the Petition! https://t.co/BnPXWHv5cr via @Change\n",
            "\n",
            "------- 1 -------\n",
            "Hey! The stock markets up! Fuck Trump and the Trumpublican Senate! https://t.co/4t6mgbaG2C\n",
            "\n",
            "------- 2 -------\n",
            "@ProjectLincoln blame Trump for no sports because of Covid19 @MeidasTouch\n",
            "\n",
            "------- 3 -------\n",
            "Do u guys think that reopening of the dinning in the restaurants of Lahore will bring any change in our lives? Nothing is going to change I think cause many people have learned cooking, painting and many new stuff during lockdown and I think we all will continue those things 1/2\n",
            "\n",
            "------- 4 -------\n",
            "@NBCSAthletics Ya just knew the season wouldn’t go by without some bench clearing brawls... Covid or not. Behaviors can’t be changed because of rules, sadly\n",
            "\n",
            "------- 5 -------\n",
            "You’re comparing apples and oranges. The NCAA has a lot more to balance than the NFL. https://t.co/oeMsbgeem7\n",
            "\n",
            "------- 6 -------\n",
            "THANK YOU @POTUS Absolutely NO MONEY/NO BAILOUTS for Irresponsibly Run Democrat Cities...#NoBailouts https://t.co/bWLELcCutV\n",
            "\n",
            "------- 7 -------\n",
            "#Texas #USA #NorthAmerica Cases: 509,539 (+21) Death: 8,583 Recovered: 344,845 Critical: 1,754 New %: 0.3% Death %: 1.7% Population %: 1.8% #CoronaVirus #Covid19 #SarsCov2 #Forecast https://t.co/yHbd9gl1uz https://t.co/sRulRFOeUx\n",
            "\n",
            "------- 8 -------\n",
            "New Zealand celebrated their 100th day without COVID today. A society that works together for the common good: that's what actual freedom looks like. https://t.co/7qppin3QRM\n",
            "\n",
            "------- 9 -------\n",
            "It’s going to be screen time all the time for kindergartners and graduate students alike. Teachers are threatening strikes. And students are already coming home infected with the coronavirus, which has upended American education. https://t.co/O3eT06wmrU\n",
            "\n"
          ]
        }
      ]
    },
    {
      "cell_type": "code",
      "source": [
        "## now we need to tokenize the tweets\n",
        "from nltk.tokenize import TweetTokenizer\n",
        "## we need to write the generated list into a new file\n",
        "f1 = open(\"/content/drive/My Drive/tweets2/ 20000_tweets.txt\", \"r\")\n",
        "f2 = open(\"/content/drive/My Drive/tweets2/processed_tweets.txt\", \"w+\")\n",
        "\n",
        "tokenizer =  TweetTokenizer()\n",
        "\n",
        "for tweet in f1:\n",
        "  processed_tweets = tokenizer.tokenize(tweet)\n",
        "  f2.writelines(\" \".join(processed_tweets))\n",
        "  f2.write(\"\\n\")\n",
        "f1.close()\n",
        "f2.close()\n",
        "\n"
      ],
      "metadata": {
        "id": "76j0xDopIAuc"
      },
      "execution_count": 38,
      "outputs": []
    },
    {
      "cell_type": "code",
      "source": [
        "## now we take a look at the tokenized tweets\n",
        "f = open(\"/content/drive/My Drive/tweets2/processed_tweets.txt\", \"r\")\n",
        "\n",
        "line_count = 0\n",
        "for tweet in f:\n",
        "  print(\"-------\", line_count, \"-------\")\n",
        "  print(tweet)\n",
        "  \n",
        "  line_count += 1\n",
        "  if line_count >= 10:\n",
        "    break\n",
        "f.close()"
      ],
      "metadata": {
        "colab": {
          "base_uri": "https://localhost:8080/"
        },
        "id": "MuD9Q4vpPskh",
        "outputId": "cd540ff3-df88-4922-d886-1bb048d06996"
      },
      "execution_count": 39,
      "outputs": [
        {
          "output_type": "stream",
          "name": "stdout",
          "text": [
            "------- 0 -------\n",
            "Covid - 19 Economic Response : Cancel Student Loans by Executive Order . - Sign the Petition ! https://t.co/BnPXWHv5cr via @Change\n",
            "\n",
            "------- 1 -------\n",
            "Hey ! The stock markets up ! Fuck Trump and the Trumpublican Senate ! https://t.co/4t6mgbaG2C\n",
            "\n",
            "------- 2 -------\n",
            "@ProjectLincoln blame Trump for no sports because of Covid 19 @MeidasTouch\n",
            "\n",
            "------- 3 -------\n",
            "Do u guys think that reopening of the dinning in the restaurants of Lahore will bring any change in our lives ? Nothing is going to change I think cause many people have learned cooking , painting and many new stuff during lockdown and I think we all will continue those things 1/2\n",
            "\n",
            "------- 4 -------\n",
            "@NBCSAthletics Ya just knew the season wouldn ’ t go by without some bench clearing brawls ... Covid or not . Behaviors can ’ t be changed because of rules , sadly\n",
            "\n",
            "------- 5 -------\n",
            "You ’ re comparing apples and oranges . The NCAA has a lot more to balance than the NFL . https://t.co/oeMsbgeem7\n",
            "\n",
            "------- 6 -------\n",
            "THANK YOU @POTUS Absolutely NO MONEY / NO BAILOUTS for Irresponsibly Run Democrat Cities ... #NoBailouts https://t.co/bWLELcCutV\n",
            "\n",
            "------- 7 -------\n",
            "#Texas #USA #NorthAmerica Cases : 509,539 ( + 21 ) Death : 8,583 Recovered : 344,845 Critical : 1,754 New % : 0.3 % Death % : 1.7 % Population % : 1.8 % #CoronaVirus #Covid19 #SarsCov2 #Forecast https://t.co/yHbd9gl1uz https://t.co/sRulRFOeUx\n",
            "\n",
            "------- 8 -------\n",
            "New Zealand celebrated their 100th day without COVID today . A society that works together for the common good : that's what actual freedom looks like . https://t.co/7qppin3QRM\n",
            "\n",
            "------- 9 -------\n",
            "It ’ s going to be screen time all the time for kindergartners and graduate students alike . Teachers are threatening strikes . And students are already coming home infected with the coronavirus , which has upended American education . https://t.co/O3eT06wmrU\n",
            "\n"
          ]
        }
      ]
    }
  ]
}